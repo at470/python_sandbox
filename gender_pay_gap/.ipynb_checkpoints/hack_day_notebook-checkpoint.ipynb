{
 "cells": [
  {
   "cell_type": "code",
   "execution_count": 4,
   "id": "8b07d805",
   "metadata": {},
   "outputs": [],
   "source": [
    "import pandas as pd"
   ]
  },
  {
   "cell_type": "code",
   "execution_count": 6,
   "id": "9469a1ef",
   "metadata": {},
   "outputs": [],
   "source": [
    "data1718 = pd.read_csv(\"gov_data_input/20172018.csv\")\n",
    "data1718['year'] = '201718'"
   ]
  },
  {
   "cell_type": "code",
   "execution_count": 7,
   "id": "502a2fbc",
   "metadata": {},
   "outputs": [],
   "source": [
    "data1819 = pd.read_csv(\"gov_data_input/20182019.csv\")\n",
    "data1819['year'] = '201819'"
   ]
  },
  {
   "cell_type": "code",
   "execution_count": 8,
   "id": "69c9f3e3",
   "metadata": {},
   "outputs": [],
   "source": [
    "data1920 = pd.read_csv(\"gov_data_input/20192020.csv\")\n",
    "data1920['year'] = '201920'"
   ]
  },
  {
   "cell_type": "code",
   "execution_count": 9,
   "id": "1a96c238",
   "metadata": {},
   "outputs": [],
   "source": [
    "data2021 = pd.read_csv(\"gov_data_input/20202021.csv\")\n",
    "data2021['year'] = '202021'"
   ]
  },
  {
   "cell_type": "code",
   "execution_count": 10,
   "id": "6227507e",
   "metadata": {},
   "outputs": [],
   "source": [
    "data2122 = pd.read_csv(\"gov_data_input/20212022.csv\")\n",
    "data2122['year'] = '202122'"
   ]
  },
  {
   "cell_type": "code",
   "execution_count": 11,
   "id": "ce3fda12",
   "metadata": {},
   "outputs": [],
   "source": [
    "#combine into one dataframe called result\n",
    "combined = [data1718,data1819,data1920, data2021, data2122]\n",
    "result = pd.concat(combined)"
   ]
  },
  {
   "cell_type": "code",
   "execution_count": 12,
   "id": "38fbe017",
   "metadata": {},
   "outputs": [
    {
     "data": {
      "text/plain": [
       "['EmployerName',\n",
       " 'EmployerId',\n",
       " 'Address',\n",
       " 'PostCode',\n",
       " 'CompanyNumber',\n",
       " 'SicCodes',\n",
       " 'DiffMeanHourlyPercent',\n",
       " 'DiffMedianHourlyPercent',\n",
       " 'DiffMeanBonusPercent',\n",
       " 'DiffMedianBonusPercent',\n",
       " 'MaleBonusPercent',\n",
       " 'FemaleBonusPercent',\n",
       " 'MaleLowerQuartile',\n",
       " 'FemaleLowerQuartile',\n",
       " 'MaleLowerMiddleQuartile',\n",
       " 'FemaleLowerMiddleQuartile',\n",
       " 'MaleUpperMiddleQuartile',\n",
       " 'FemaleUpperMiddleQuartile',\n",
       " 'MaleTopQuartile',\n",
       " 'FemaleTopQuartile',\n",
       " 'CompanyLinkToGPGInfo',\n",
       " 'ResponsiblePerson',\n",
       " 'EmployerSize',\n",
       " 'CurrentName',\n",
       " 'SubmittedAfterTheDeadline',\n",
       " 'DueDate',\n",
       " 'DateSubmitted',\n",
       " 'year']"
      ]
     },
     "execution_count": 12,
     "metadata": {},
     "output_type": "execute_result"
    }
   ],
   "source": [
    "#all headers in dataframe\n",
    "list(result.columns.values)"
   ]
  },
  {
   "cell_type": "code",
   "execution_count": 13,
   "id": "3b5c8716",
   "metadata": {},
   "outputs": [],
   "source": [
    "data = result[['EmployerName',\n",
    "               'EmployerId',\n",
    " 'EmployerSize',              \n",
    " 'DiffMeanHourlyPercent',\n",
    " 'DiffMedianHourlyPercent',\n",
    " 'DiffMeanBonusPercent',\n",
    " 'DiffMedianBonusPercent',\n",
    " 'MaleBonusPercent',\n",
    " 'FemaleBonusPercent',\n",
    " 'MaleLowerQuartile',\n",
    " 'FemaleLowerQuartile',\n",
    " 'MaleLowerMiddleQuartile',\n",
    " 'FemaleLowerMiddleQuartile',\n",
    " 'MaleUpperMiddleQuartile',\n",
    " 'FemaleUpperMiddleQuartile',\n",
    " 'MaleTopQuartile',\n",
    " 'FemaleTopQuartile',\n",
    " 'year']]"
   ]
  },
  {
   "cell_type": "code",
   "execution_count": 14,
   "id": "0f933015",
   "metadata": {},
   "outputs": [
    {
     "data": {
      "text/html": [
       "<div>\n",
       "<style scoped>\n",
       "    .dataframe tbody tr th:only-of-type {\n",
       "        vertical-align: middle;\n",
       "    }\n",
       "\n",
       "    .dataframe tbody tr th {\n",
       "        vertical-align: top;\n",
       "    }\n",
       "\n",
       "    .dataframe thead th {\n",
       "        text-align: right;\n",
       "    }\n",
       "</style>\n",
       "<table border=\"1\" class=\"dataframe\">\n",
       "  <thead>\n",
       "    <tr style=\"text-align: right;\">\n",
       "      <th></th>\n",
       "      <th>EmployerName</th>\n",
       "      <th>EmployerId</th>\n",
       "      <th>EmployerSize</th>\n",
       "      <th>DiffMeanHourlyPercent</th>\n",
       "      <th>DiffMedianHourlyPercent</th>\n",
       "      <th>DiffMeanBonusPercent</th>\n",
       "      <th>DiffMedianBonusPercent</th>\n",
       "      <th>MaleBonusPercent</th>\n",
       "      <th>FemaleBonusPercent</th>\n",
       "      <th>MaleLowerQuartile</th>\n",
       "      <th>FemaleLowerQuartile</th>\n",
       "      <th>MaleLowerMiddleQuartile</th>\n",
       "      <th>FemaleLowerMiddleQuartile</th>\n",
       "      <th>MaleUpperMiddleQuartile</th>\n",
       "      <th>FemaleUpperMiddleQuartile</th>\n",
       "      <th>MaleTopQuartile</th>\n",
       "      <th>FemaleTopQuartile</th>\n",
       "      <th>year</th>\n",
       "    </tr>\n",
       "  </thead>\n",
       "  <tbody>\n",
       "    <tr>\n",
       "      <th>0</th>\n",
       "      <td>\"Bryanston School\",Incorporated</td>\n",
       "      <td>676</td>\n",
       "      <td>500 to 999</td>\n",
       "      <td>18.0</td>\n",
       "      <td>28.2</td>\n",
       "      <td>0.0</td>\n",
       "      <td>0.0</td>\n",
       "      <td>0.0</td>\n",
       "      <td>0.0</td>\n",
       "      <td>24.4</td>\n",
       "      <td>75.6</td>\n",
       "      <td>50.8</td>\n",
       "      <td>49.2</td>\n",
       "      <td>49.2</td>\n",
       "      <td>50.8</td>\n",
       "      <td>51.5</td>\n",
       "      <td>48.5</td>\n",
       "      <td>201718</td>\n",
       "    </tr>\n",
       "    <tr>\n",
       "      <th>1</th>\n",
       "      <td>\"RED BAND\" CHEMICAL COMPANY, LIMITED</td>\n",
       "      <td>16879</td>\n",
       "      <td>250 to 499</td>\n",
       "      <td>2.3</td>\n",
       "      <td>-2.7</td>\n",
       "      <td>15.0</td>\n",
       "      <td>37.5</td>\n",
       "      <td>15.6</td>\n",
       "      <td>66.7</td>\n",
       "      <td>20.3</td>\n",
       "      <td>79.7</td>\n",
       "      <td>25.4</td>\n",
       "      <td>74.6</td>\n",
       "      <td>10.3</td>\n",
       "      <td>89.7</td>\n",
       "      <td>18.1</td>\n",
       "      <td>81.9</td>\n",
       "      <td>201718</td>\n",
       "    </tr>\n",
       "    <tr>\n",
       "      <th>2</th>\n",
       "      <td>123 EMPLOYEES LTD</td>\n",
       "      <td>17677</td>\n",
       "      <td>250 to 499</td>\n",
       "      <td>41.0</td>\n",
       "      <td>36.0</td>\n",
       "      <td>-69.8</td>\n",
       "      <td>-157.2</td>\n",
       "      <td>50.0</td>\n",
       "      <td>73.5</td>\n",
       "      <td>0.0</td>\n",
       "      <td>100.0</td>\n",
       "      <td>2.0</td>\n",
       "      <td>98.0</td>\n",
       "      <td>11.0</td>\n",
       "      <td>89.0</td>\n",
       "      <td>23.0</td>\n",
       "      <td>77.0</td>\n",
       "      <td>201718</td>\n",
       "    </tr>\n",
       "    <tr>\n",
       "      <th>3</th>\n",
       "      <td>1610 LIMITED</td>\n",
       "      <td>682</td>\n",
       "      <td>250 to 499</td>\n",
       "      <td>-22.0</td>\n",
       "      <td>-34.0</td>\n",
       "      <td>-47.0</td>\n",
       "      <td>-67.0</td>\n",
       "      <td>25.0</td>\n",
       "      <td>75.0</td>\n",
       "      <td>56.0</td>\n",
       "      <td>44.0</td>\n",
       "      <td>52.0</td>\n",
       "      <td>48.0</td>\n",
       "      <td>30.0</td>\n",
       "      <td>70.0</td>\n",
       "      <td>24.0</td>\n",
       "      <td>76.0</td>\n",
       "      <td>201718</td>\n",
       "    </tr>\n",
       "    <tr>\n",
       "      <th>4</th>\n",
       "      <td>1879 EVENTS MANAGEMENT LIMITED</td>\n",
       "      <td>17101</td>\n",
       "      <td>250 to 499</td>\n",
       "      <td>13.4</td>\n",
       "      <td>8.1</td>\n",
       "      <td>41.4</td>\n",
       "      <td>43.7</td>\n",
       "      <td>8.7</td>\n",
       "      <td>3.2</td>\n",
       "      <td>29.1</td>\n",
       "      <td>70.9</td>\n",
       "      <td>49.4</td>\n",
       "      <td>50.6</td>\n",
       "      <td>22.8</td>\n",
       "      <td>77.2</td>\n",
       "      <td>58.2</td>\n",
       "      <td>41.8</td>\n",
       "      <td>201718</td>\n",
       "    </tr>\n",
       "  </tbody>\n",
       "</table>\n",
       "</div>"
      ],
      "text/plain": [
       "                           EmployerName  EmployerId EmployerSize  \\\n",
       "0       \"Bryanston School\",Incorporated         676   500 to 999   \n",
       "1  \"RED BAND\" CHEMICAL COMPANY, LIMITED       16879   250 to 499   \n",
       "2                     123 EMPLOYEES LTD       17677   250 to 499   \n",
       "3                          1610 LIMITED         682   250 to 499   \n",
       "4        1879 EVENTS MANAGEMENT LIMITED       17101   250 to 499   \n",
       "\n",
       "   DiffMeanHourlyPercent  DiffMedianHourlyPercent  DiffMeanBonusPercent  \\\n",
       "0                   18.0                     28.2                   0.0   \n",
       "1                    2.3                     -2.7                  15.0   \n",
       "2                   41.0                     36.0                 -69.8   \n",
       "3                  -22.0                    -34.0                 -47.0   \n",
       "4                   13.4                      8.1                  41.4   \n",
       "\n",
       "   DiffMedianBonusPercent  MaleBonusPercent  FemaleBonusPercent  \\\n",
       "0                     0.0               0.0                 0.0   \n",
       "1                    37.5              15.6                66.7   \n",
       "2                  -157.2              50.0                73.5   \n",
       "3                   -67.0              25.0                75.0   \n",
       "4                    43.7               8.7                 3.2   \n",
       "\n",
       "   MaleLowerQuartile  FemaleLowerQuartile  MaleLowerMiddleQuartile  \\\n",
       "0               24.4                 75.6                     50.8   \n",
       "1               20.3                 79.7                     25.4   \n",
       "2                0.0                100.0                      2.0   \n",
       "3               56.0                 44.0                     52.0   \n",
       "4               29.1                 70.9                     49.4   \n",
       "\n",
       "   FemaleLowerMiddleQuartile  MaleUpperMiddleQuartile  \\\n",
       "0                       49.2                     49.2   \n",
       "1                       74.6                     10.3   \n",
       "2                       98.0                     11.0   \n",
       "3                       48.0                     30.0   \n",
       "4                       50.6                     22.8   \n",
       "\n",
       "   FemaleUpperMiddleQuartile  MaleTopQuartile  FemaleTopQuartile    year  \n",
       "0                       50.8             51.5               48.5  201718  \n",
       "1                       89.7             18.1               81.9  201718  \n",
       "2                       89.0             23.0               77.0  201718  \n",
       "3                       70.0             24.0               76.0  201718  \n",
       "4                       77.2             58.2               41.8  201718  "
      ]
     },
     "execution_count": 14,
     "metadata": {},
     "output_type": "execute_result"
    }
   ],
   "source": [
    "data.head()"
   ]
  },
  {
   "cell_type": "code",
   "execution_count": 38,
   "id": "f935ef77",
   "metadata": {},
   "outputs": [],
   "source": [
    "#select trainline rows\n",
    "trainline_data = data.loc[data['EmployerName'] == 'TRAINLINE.COM LIMITED']"
   ]
  },
  {
   "cell_type": "code",
   "execution_count": 40,
   "id": "743fce61",
   "metadata": {},
   "outputs": [],
   "source": [
    "trainline_data.to_csv('raw_data_export/trainline_data.csv', index = False)"
   ]
  },
  {
   "cell_type": "code",
   "execution_count": 19,
   "id": "1a1939fb",
   "metadata": {},
   "outputs": [],
   "source": [
    "#select comparable rows\n",
    "expedia_data = data.loc[data['EmployerName'] == 'EXPEDIA.COM LIMITED']\n",
    "expedia_data.to_csv('raw_data_export/expedia_data.csv', index = False)"
   ]
  },
  {
   "cell_type": "code",
   "execution_count": null,
   "id": "f184b361",
   "metadata": {},
   "outputs": [],
   "source": []
  }
 ],
 "metadata": {
  "kernelspec": {
   "display_name": "Python 3",
   "language": "python",
   "name": "python3"
  },
  "language_info": {
   "codemirror_mode": {
    "name": "ipython",
    "version": 3
   },
   "file_extension": ".py",
   "mimetype": "text/x-python",
   "name": "python",
   "nbconvert_exporter": "python",
   "pygments_lexer": "ipython3",
   "version": "3.8.5"
  }
 },
 "nbformat": 4,
 "nbformat_minor": 5
}
